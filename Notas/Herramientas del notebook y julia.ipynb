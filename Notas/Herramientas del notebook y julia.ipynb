{
 "cells": [
  {
   "cell_type": "markdown",
   "metadata": {},
   "source": [
    "## Notebook de ayuda creado por Aramis de Icaza Astiz"
   ]
  },
  {
   "cell_type": "markdown",
   "metadata": {},
   "source": [
    "# Herramientas básicas del Notebook"
   ]
  },
  {
   "cell_type": "markdown",
   "metadata": {},
   "source": [
    "Antes de entrar en detalles sobre Julia, primero hablare sobre como poner este 'tipo' de textos.\n",
    "\n",
    "Para que no se vea extraño poner notas largas en el código se utilizan las celdas de tipo 'Markdown', cambiando 'Code' a 'Markdown', o bien con el shortcuts 'ESC' y luego 'M' (para consultar los shortcuts del notebook se puede consultar 'Keyboard Shortcuts' en la sección de 'Help' de la barra superior).\n",
    "\n",
    "###¿Qué es Markdown? \n",
    "\n",
    "Markdown es un lenguaje de marcado ligero para formateo de textos con una sintaxis sencilla.\n",
    "\n",
    "Para consultar detalles sobre este (puesto que no se verá en el curso) se puede consultar [su github](https://github.com/adam-p/markdown-here/wiki/Markdown-Cheatsheet).\n",
    "\n",
    "### LaTeX\n",
    "\n",
    "Además, otra herramienta muy práctica para entenderse y darse a entender se puede utilizar la sintaxis de LaTeX para dar formato a las ecuaciones, por ejemplo:\n",
    "\n",
    "$$f(x) = x^2$$.\n",
    "\n",
    "Esta función se escribio utilizando LaTeX, de no saber utilizarlo se recomienda empezar a aprenderlo. Se puede hacer esto de varias formas (como en LaTeX), por ejemplo:\n",
    "\n",
    "\\begin{equation}\n",
    "f(x) = x^2\n",
    "\\end{equation}\n",
    "\n",
    "También se puede colocar directamente en el texto $f(x) = x^2$.\n",
    "\n",
    "\n",
    "Para consultar el texto sin formato de las celdas de 'Markdown' basta con dar doble click en la celda para consultarlo.\n",
    "\n",
    "### Otras cualidades\n",
    "\n",
    "Otras cosas útiles del Notebook, que tampoco se verán en el curso, es que ss puede exportar el Notebook a PDF en formato LaTeX y también se puede utilizar para realizar presentaciones (algo que puede resultar útil si ya se tiene todo el contenido en el Notebook)\n",
    "\n",
    "\n"
   ]
  },
  {
   "cell_type": "code",
   "execution_count": null,
   "metadata": {
    "collapsed": true
   },
   "outputs": [],
   "source": []
  },
  {
   "cell_type": "markdown",
   "metadata": {},
   "source": [
    "### Aritmética y tipos de números"
   ]
  },
  {
   "cell_type": "markdown",
   "metadata": {},
   "source": [
    "Las operacionex de suma(+), resta(-), multiplicación(*), división(/), potencia(^) funcionan de manera normal y como uno esperaría, sin embargo, hay algunos detalles que hay que tomar en cuenta. También hay que tener cuidado con la igualdad(=) a continuación se explicarán las razones.\n",
    "\n",
    "Pero antes, prueba calculucar $10^{70}$ en la celda inferior."
   ]
  },
  {
   "cell_type": "code",
   "execution_count": null,
   "metadata": {
    "collapsed": true
   },
   "outputs": [],
   "source": [
    "1+3"
   ]
  },
  {
   "cell_type": "code",
   "execution_count": null,
   "metadata": {
    "collapsed": true
   },
   "outputs": [],
   "source": [
    "5-2"
   ]
  },
  {
   "cell_type": "code",
   "execution_count": null,
   "metadata": {
    "collapsed": true
   },
   "outputs": [],
   "source": [
    "2*5"
   ]
  },
  {
   "cell_type": "code",
   "execution_count": null,
   "metadata": {
    "collapsed": true
   },
   "outputs": [],
   "source": [
    "7/8"
   ]
  },
  {
   "cell_type": "code",
   "execution_count": null,
   "metadata": {
    "collapsed": true
   },
   "outputs": [],
   "source": [
    "10^70"
   ]
  },
  {
   "cell_type": "markdown",
   "metadata": {},
   "source": [
    "Hay algo raro aquí, $10^{100}$ no es cero! ¿Qué está pasando aquí? La precisión con la que se puede dar los números en la computadora es limitada. Ya sean 'float' o 'int'. Este es del tipo 'Int' pero ¿qué tipo de Int? para responder eso utilizamos la función de Julia 'typeof()'"
   ]
  },
  {
   "cell_type": "code",
   "execution_count": null,
   "metadata": {
    "collapsed": true
   },
   "outputs": [],
   "source": [
    "typeof(10^70)"
   ]
  },
  {
   "cell_type": "markdown",
   "metadata": {},
   "source": [
    "Aquí notamos que 64 bits no son suficientes para escribir este numero en la computadora. Para explicar esto consideremos un numero en su represantación de 4 bits\n",
    "\n",
    "$$2^3+2^2 + 2^1 + 2^0 = 15$$\n",
    "$$2^3 +2^2 + 2^0 =13$$\n",
    "\n",
    "¿Cómo le hacemos para que $10^{70} \\neq 0$? Incrementando la memoria del número en bits con la función 'big()', se usa de la siguite forma:\n",
    "\n",
    "big(10)^70\n",
    "\n",
    "Verifiqué big(10^70), 2^2^2^2^2\n"
   ]
  },
  {
   "cell_type": "code",
   "execution_count": null,
   "metadata": {
    "collapsed": true
   },
   "outputs": [],
   "source": [
    "s = big(10)^70"
   ]
  },
  {
   "cell_type": "markdown",
   "metadata": {},
   "source": [
    "Para números muy grandes como $2^2^2^2^2$ no queremos que lo imprima porque son demasiado números, en lugar nos gustaría saber cuántas cifras tiene (para reducir el tamaño de la celda se hace doble click a la izquierda dd la celda de salida). Para eso transformamos el número a un 'String' con 'string() y contamos el numero con 'length()' ¿qué tipo es string(p)?"
   ]
  },
  {
   "cell_type": "code",
   "execution_count": null,
   "metadata": {
    "collapsed": true
   },
   "outputs": [],
   "source": [
    "p = big(2)^2^2^2^2\n",
    "str = string(p)"
   ]
  },
  {
   "cell_type": "markdown",
   "metadata": {},
   "source": [
    "¿qué hace la siguiente celda? ¿que funcion tiene 'ans'?"
   ]
  },
  {
   "cell_type": "code",
   "execution_count": null,
   "metadata": {
    "collapsed": true
   },
   "outputs": [],
   "source": [
    "typeof(ans)"
   ]
  },
  {
   "cell_type": "code",
   "execution_count": null,
   "metadata": {
    "collapsed": true
   },
   "outputs": [],
   "source": [
    "length(str)"
   ]
  },
  {
   "cell_type": "markdown",
   "metadata": {
    "collapsed": true
   },
   "source": [
    "Antes de explicar brevemente algunos detalles de 'floats' hagamos unos quebrados, para hacer de manera exacta quebrados lo que utilizamos es '//'"
   ]
  },
  {
   "cell_type": "code",
   "execution_count": null,
   "metadata": {
    "collapsed": true
   },
   "outputs": [],
   "source": [
    "1//3 + 3//9"
   ]
  },
  {
   "cell_type": "markdown",
   "metadata": {},
   "source": [
    "Comprado con la forma estándar"
   ]
  },
  {
   "cell_type": "code",
   "execution_count": null,
   "metadata": {
    "collapsed": true
   },
   "outputs": [],
   "source": [
    "1/3 + 3/9"
   ]
  },
  {
   "cell_type": "markdown",
   "metadata": {},
   "source": [
    "Ahora si, los numeros reales se aproximan con números de 'punto flotante' o 'floats' (con numeros binarios)\n",
    "¿Cuánto vale $2.6 \\times 1.3$? ¿Es correcto?"
   ]
  },
  {
   "cell_type": "code",
   "execution_count": null,
   "metadata": {
    "collapsed": true
   },
   "outputs": [],
   "source": []
  },
  {
   "cell_type": "markdown",
   "metadata": {},
   "source": [
    "También es posible usar números complejos e imaginarios. Para denotar $i=\\sqrt{-1}$ utilizamos 'im'. ¿Cuánto vale 'im*im'? Calcule $(2 +2i)(2-3i)$"
   ]
  },
  {
   "cell_type": "code",
   "execution_count": null,
   "metadata": {
    "collapsed": true
   },
   "outputs": [],
   "source": []
  },
  {
   "cell_type": "code",
   "execution_count": null,
   "metadata": {
    "collapsed": true
   },
   "outputs": [],
   "source": []
  },
  {
   "cell_type": "markdown",
   "metadata": {},
   "source": [
    "### Variables\n",
    "Para usar variables asiganamos nombres(o letras) para representar a los objetos computacionales y se asignan con '='."
   ]
  },
  {
   "cell_type": "code",
   "execution_count": 18,
   "metadata": {
    "collapsed": false
   },
   "outputs": [
    {
     "name": "stdout",
     "output_type": "stream",
     "text": [
      "El valor de la variable x es 25\n"
     ]
    }
   ],
   "source": [
    "x = 25\n",
    "println(\"El valor de la variable x es \", x)"
   ]
  },
  {
   "cell_type": "markdown",
   "metadata": {},
   "source": [
    "La asignación de las variables pueden ser caracteres de Unicode. Muchos se pueden teclear usando una notación de LaTeX: prueba teclear  \\alpha<TAB>. Empieza con \\alp<TAB> y teclea <TAB> para completarlo:"
   ]
  },
  {
   "cell_type": "code",
   "execution_count": 25,
   "metadata": {
    "collapsed": false
   },
   "outputs": [
    {
     "name": "stdout",
     "output_type": "stream",
     "text": [
      "Los valores de α, β y γ son 10, 10 y 4 respectivamente\n"
     ]
    }
   ],
   "source": [
    "α;β= 10; γ=4\n",
    "println(\"Los valores de α, β y γ son \", α, \", \", β, \" y \", γ, \" \", \"respectivamente\")"
   ]
  },
  {
   "cell_type": "markdown",
   "metadata": {},
   "source": [
    "Como se mencionó antes, las variables también pueden ser nombres y además de numeros pueden contener 'strings'"
   ]
  },
  {
   "cell_type": "code",
   "execution_count": null,
   "metadata": {
    "collapsed": true
   },
   "outputs": [],
   "source": [
    "saludo = \"ola k ase\"\n",
    "println(saludo)"
   ]
  },
  {
   "cell_type": "markdown",
   "metadata": {},
   "source": [
    "Para sustituir varibles utilizamos nuevamente '='"
   ]
  },
  {
   "cell_type": "code",
   "execution_count": null,
   "metadata": {
    "collapsed": true
   },
   "outputs": [],
   "source": [
    "α=0; saludo = \"hola\"\n",
    "println(α, \" \", saludo)"
   ]
  },
  {
   "cell_type": "markdown",
   "metadata": {},
   "source": [
    "### Funciones\n",
    "Ya se vió en clase, pero nuevamente veamos funciones. Hay dos maneras de hacerlas. La primera toma dos argumentos y uno como default a menos que se indique lo contrario"
   ]
  },
  {
   "cell_type": "code",
   "execution_count": 32,
   "metadata": {
    "collapsed": false
   },
   "outputs": [
    {
     "data": {
      "text/plain": [
       "f (generic function with 2 methods)"
      ]
     },
     "execution_count": 32,
     "metadata": {},
     "output_type": "execute_result"
    }
   ],
   "source": [
    "f(x, y=1) = x^2 + y^2"
   ]
  },
  {
   "cell_type": "code",
   "execution_count": null,
   "metadata": {
    "collapsed": true
   },
   "outputs": [],
   "source": [
    "f(2)"
   ]
  },
  {
   "cell_type": "code",
   "execution_count": null,
   "metadata": {
    "collapsed": true
   },
   "outputs": [],
   "source": [
    "f(2, 5)"
   ]
  },
  {
   "cell_type": "markdown",
   "metadata": {},
   "source": [
    "Para obtener información de una función creada por el usuario o una en la librería de Julia basta con. Notemos que la función se puede correr de dos maneras, especificando los dos argumentos o solamente el primero.\n"
   ]
  },
  {
   "cell_type": "code",
   "execution_count": null,
   "metadata": {
    "collapsed": true
   },
   "outputs": [],
   "source": [
    "f"
   ]
  },
  {
   "cell_type": "code",
   "execution_count": null,
   "metadata": {
    "collapsed": true
   },
   "outputs": [],
   "source": [
    "print"
   ]
  },
  {
   "cell_type": "markdown",
   "metadata": {},
   "source": [
    "La segunda forma de especificar funciones es para acciones más sofisticadas. Este función (aquí también se pueden especificar argumentos por default, y en el otro tipo de función también se puede especificar el tipo de argumento) además cuenta con una manera opcional de especificar el tipo de argumento. Más adelante se explorarán más los condicionales 'if'."
   ]
  },
  {
   "cell_type": "code",
   "execution_count": null,
   "metadata": {
    "collapsed": true
   },
   "outputs": [],
   "source": [
    "function f_cumpleaños(edad::Float64)\n",
    "    if edad < 0.0\n",
    "        \"No hay edades negativas!\"\n",
    "    else\n",
    "        round(Int,edad)\n",
    "    end\n",
    "end"
   ]
  },
  {
   "cell_type": "code",
   "execution_count": null,
   "metadata": {
    "collapsed": true
   },
   "outputs": [],
   "source": [
    "f_cumpleaños(-3.7)"
   ]
  },
  {
   "cell_type": "code",
   "execution_count": null,
   "metadata": {
    "collapsed": true
   },
   "outputs": [],
   "source": [
    "f_cumpleaños(20.7)"
   ]
  },
  {
   "cell_type": "markdown",
   "metadata": {
    "collapsed": true
   },
   "source": [
    "###Comparando números\n",
    "\n",
    "Comprar la \"igualdad\" de números en la computadora puede resultar frustrante si no se sabe como, para comparar si una variable es igual a otra se utiliza '=='. Veamos unos ejemplos"
   ]
  },
  {
   "cell_type": "code",
   "execution_count": null,
   "metadata": {
    "collapsed": true
   },
   "outputs": [],
   "source": [
    "1/3 == 1//3"
   ]
  },
  {
   "cell_type": "code",
   "execution_count": null,
   "metadata": {
    "collapsed": true
   },
   "outputs": [],
   "source": [
    "1.33333 == 1/3"
   ]
  },
  {
   "cell_type": "markdown",
   "metadata": {
    "collapsed": true
   },
   "source": [
    "Para hacer este tipo de comparaciones de igualdad lo más útil es usar un intervalo (tendrá que esperar el ejemplo hasta que llegamos a los condicionales).\n",
    "\n",
    "Hay otras maneras de comprar números y son las siguientes.\n",
    "\n",
    "> (mayor que), < (menor que), >= (mayor o igual que), <= (menor o igual que), == (igualdad en valor), === ('igualdad computacional'), != (diferencia), y otras menos comunes."
   ]
  },
  {
   "cell_type": "code",
   "execution_count": null,
   "metadata": {
    "collapsed": true
   },
   "outputs": [],
   "source": []
  }
 ],
 "metadata": {
  "kernelspec": {
   "display_name": "Julia 0.4.6",
   "language": "julia",
   "name": "julia-0.4"
  },
  "language_info": {
   "file_extension": ".jl",
   "mimetype": "application/julia",
   "name": "julia",
   "version": "0.4.6"
  }
 },
 "nbformat": 4,
 "nbformat_minor": 0
}
